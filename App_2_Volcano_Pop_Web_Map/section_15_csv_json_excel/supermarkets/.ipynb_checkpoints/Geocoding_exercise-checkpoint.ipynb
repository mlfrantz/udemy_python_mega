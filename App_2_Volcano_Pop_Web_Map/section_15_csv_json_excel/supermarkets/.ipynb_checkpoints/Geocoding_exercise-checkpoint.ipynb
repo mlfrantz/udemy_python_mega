{
 "cells": [
  {
   "cell_type": "code",
   "execution_count": 2,
   "metadata": {},
   "outputs": [
    {
     "data": {
      "text/plain": [
       "['supermarkets-semi-colons.txt',\n",
       " 'supermarkets.json',\n",
       " 'test_data.csv',\n",
       " 'supermarkets-commas.txt',\n",
       " '.ipynb_checkpoints',\n",
       " 'Geocoding_exercise.ipynb',\n",
       " 'Supermarkets_exercise.ipynb',\n",
       " 'supermarkets.zip',\n",
       " 'supermarkets.csv',\n",
       " 'supermarkets.xlsx']"
      ]
     },
     "execution_count": 2,
     "metadata": {},
     "output_type": "execute_result"
    }
   ],
   "source": [
    "import pandas as pd\n",
    "import os\n",
    "os.listdir()"
   ]
  },
  {
   "cell_type": "code",
   "execution_count": null,
   "metadata": {},
   "outputs": [],
   "source": []
  }
 ],
 "metadata": {
  "kernelspec": {
   "display_name": "Python 3",
   "language": "python",
   "name": "python3"
  },
  "language_info": {
   "codemirror_mode": {
    "name": "ipython",
    "version": 3
   },
   "file_extension": ".py",
   "mimetype": "text/x-python",
   "name": "python",
   "nbconvert_exporter": "python",
   "pygments_lexer": "ipython3",
   "version": "3.8.5"
  }
 },
 "nbformat": 4,
 "nbformat_minor": 4
}
